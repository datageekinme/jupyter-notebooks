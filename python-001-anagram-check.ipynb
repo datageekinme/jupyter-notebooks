{
 "cells": [
  {
   "cell_type": "code",
   "execution_count": 52,
   "metadata": {},
   "outputs": [],
   "source": [
    "def anagram_check_1(a,b):\n",
    "    \n",
    "    a_list = list(a.replace(\" \", \"\").lower())\n",
    "    b_list = list(b.replace(\" \", \"\").lower())\n",
    "    \n",
    "    for a in a_list:\n",
    "        if a in b_list:\n",
    "            b_list.remove(a)\n",
    "            continue\n",
    "        else:\n",
    "            return False\n",
    "    \n",
    "    return True"
   ]
  },
  {
   "cell_type": "code",
   "execution_count": 53,
   "metadata": {},
   "outputs": [],
   "source": [
    "def anagram_check_2(a,b):\n",
    "    \n",
    "    a = a.replace(' ','').lower()\n",
    "    b = b.replace(' ','').lower()\n",
    "    \n",
    "    return sorted(a) == sorted(b)"
   ]
  },
  {
   "cell_type": "code",
   "execution_count": 56,
   "metadata": {},
   "outputs": [],
   "source": [
    "def anagram_check_3(a,b):\n",
    "    \n",
    "    a = a.replace(' ','').lower()\n",
    "    b = b.replace(' ','').lower()\n",
    "    \n",
    "    #edge case check\n",
    "    if len(a)!= len(b):\n",
    "        return False\n",
    "    \n",
    "    count = {}\n",
    "    \n",
    "    for letter in a:\n",
    "        if letter in count:\n",
    "            count[letter] += 1\n",
    "        else:\n",
    "            count[letter] = 1\n",
    "            \n",
    "    for letter in b:\n",
    "        if letter in count:\n",
    "            count[letter] -= 1\n",
    "        else:\n",
    "            count[letter] = 1\n",
    "    \n",
    "    for k in count:\n",
    "        if count[k] != 0:\n",
    "            return False\n",
    "    \n",
    "    return True"
   ]
  }
 ],
 "metadata": {
  "kernelspec": {
   "display_name": "Python 3",
   "language": "python",
   "name": "python3"
  },
  "language_info": {
   "codemirror_mode": {
    "name": "ipython",
    "version": 3
   },
   "file_extension": ".py",
   "mimetype": "text/x-python",
   "name": "python",
   "nbconvert_exporter": "python",
   "pygments_lexer": "ipython3",
   "version": "3.6.3"
  }
 },
 "nbformat": 4,
 "nbformat_minor": 2
}

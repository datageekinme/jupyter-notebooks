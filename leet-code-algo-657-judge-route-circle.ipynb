{
 "cells": [
  {
   "cell_type": "markdown",
   "metadata": {},
   "source": [
    "# Question # 657: Judge Route Circle"
   ]
  },
  {
   "cell_type": "markdown",
   "metadata": {},
   "source": [
    "Initially, there is a Robot at position (0, 0). Given a sequence of its moves, judge if this robot makes a circle, which means it moves back to the original place.\n",
    "\n",
    "The move sequence is represented by a string. And each move is represent by a character. The valid robot moves are R (Right), L (Left), U (Up) and D (down). The output should be true or false representing whether the robot makes a circle.\n",
    "\n",
    "Example 1:\n",
    "```\n",
    "Input: \"UD\"\n",
    "Output: true\n",
    "```\n",
    "\n",
    "Example 2:\n",
    "```\n",
    "Input: \"LL\"\n",
    "Output: false\n",
    "```"
   ]
  },
  {
   "cell_type": "code",
   "execution_count": 17,
   "metadata": {},
   "outputs": [],
   "source": [
    "# Solution 1:\n",
    "class Solution:\n",
    "    def judgeCircle(self, moves):\n",
    "        leftRight = 0\n",
    "        upDown = 0\n",
    "        \n",
    "        if len(moves) % 2 != 0:\n",
    "            return False\n",
    "        \n",
    "        for i in moves:\n",
    "            \n",
    "            if i == 'L':\n",
    "                leftRight += 1\n",
    "            elif i == 'R':\n",
    "                leftRight -= 1\n",
    "            elif i == 'U':\n",
    "                upDown += 1\n",
    "            elif i == 'D':\n",
    "                upDown -= 1\n",
    "                \n",
    "        if leftRight == 0 and upDown == 0:\n",
    "            return True\n",
    "    \n",
    "        return False"
   ]
  },
  {
   "cell_type": "code",
   "execution_count": 18,
   "metadata": {},
   "outputs": [
    {
     "data": {
      "text/plain": [
       "True"
      ]
     },
     "execution_count": 18,
     "metadata": {},
     "output_type": "execute_result"
    }
   ],
   "source": [
    "moves = 'UD'\n",
    "a = Solution()\n",
    "a.judgeCircle(moves)"
   ]
  },
  {
   "cell_type": "code",
   "execution_count": 19,
   "metadata": {},
   "outputs": [
    {
     "data": {
      "text/plain": [
       "False"
      ]
     },
     "execution_count": 19,
     "metadata": {},
     "output_type": "execute_result"
    }
   ],
   "source": [
    "moves = 'LL'\n",
    "a = Solution()\n",
    "a.judgeCircle(moves)"
   ]
  },
  {
   "cell_type": "code",
   "execution_count": 20,
   "metadata": {},
   "outputs": [
    {
     "data": {
      "text/plain": [
       "False"
      ]
     },
     "execution_count": 20,
     "metadata": {},
     "output_type": "execute_result"
    }
   ],
   "source": [
    "moves = 'UDLLR'\n",
    "a = Solution()\n",
    "a.judgeCircle(moves)"
   ]
  },
  {
   "cell_type": "code",
   "execution_count": 21,
   "metadata": {},
   "outputs": [
    {
     "data": {
      "text/plain": [
       "True"
      ]
     },
     "execution_count": 21,
     "metadata": {},
     "output_type": "execute_result"
    }
   ],
   "source": [
    "moves = 'ULDRLR'\n",
    "a = Solution()\n",
    "a.judgeCircle(moves)"
   ]
  },
  {
   "cell_type": "code",
   "execution_count": 22,
   "metadata": {},
   "outputs": [],
   "source": [
    "# Solution 2:\n",
    "class Solution:\n",
    "    def judgeCircle(self, moves):\n",
    "        return (moves.count('L') == moves.count('R')) and (moves.count('U')==moves.count('D'))"
   ]
  },
  {
   "cell_type": "code",
   "execution_count": 23,
   "metadata": {},
   "outputs": [
    {
     "data": {
      "text/plain": [
       "True"
      ]
     },
     "execution_count": 23,
     "metadata": {},
     "output_type": "execute_result"
    }
   ],
   "source": [
    "moves = 'UD'\n",
    "a = Solution()\n",
    "a.judgeCircle(moves)"
   ]
  },
  {
   "cell_type": "code",
   "execution_count": 24,
   "metadata": {},
   "outputs": [
    {
     "data": {
      "text/plain": [
       "False"
      ]
     },
     "execution_count": 24,
     "metadata": {},
     "output_type": "execute_result"
    }
   ],
   "source": [
    "moves = 'LL'\n",
    "a = Solution()\n",
    "a.judgeCircle(moves)"
   ]
  },
  {
   "cell_type": "code",
   "execution_count": 25,
   "metadata": {},
   "outputs": [
    {
     "data": {
      "text/plain": [
       "False"
      ]
     },
     "execution_count": 25,
     "metadata": {},
     "output_type": "execute_result"
    }
   ],
   "source": [
    "moves = 'UDLLR'\n",
    "a = Solution()\n",
    "a.judgeCircle(moves)"
   ]
  },
  {
   "cell_type": "code",
   "execution_count": 26,
   "metadata": {},
   "outputs": [
    {
     "data": {
      "text/plain": [
       "True"
      ]
     },
     "execution_count": 26,
     "metadata": {},
     "output_type": "execute_result"
    }
   ],
   "source": [
    "moves = 'ULDRLR'\n",
    "a = Solution()\n",
    "a.judgeCircle(moves)"
   ]
  }
 ],
 "metadata": {
  "kernelspec": {
   "display_name": "Python 2",
   "language": "python",
   "name": "python2"
  },
  "language_info": {
   "codemirror_mode": {
    "name": "ipython",
    "version": 2
   },
   "file_extension": ".py",
   "mimetype": "text/x-python",
   "name": "python",
   "nbconvert_exporter": "python",
   "pygments_lexer": "ipython2",
   "version": "2.7.14"
  }
 },
 "nbformat": 4,
 "nbformat_minor": 2
}

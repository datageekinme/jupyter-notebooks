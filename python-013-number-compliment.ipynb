{
 "cells": [
  {
   "cell_type": "code",
   "execution_count": 49,
   "metadata": {},
   "outputs": [],
   "source": [
    "class Solution:\n",
    "    def findComplement(self, num):\n",
    "        \n",
    "        num_bin = bin(num)[2:]\n",
    "        bin_len = len(num_bin)\n",
    "        i = 0\n",
    "        num_comp = ''\n",
    "        \n",
    "        while i < bin_len:\n",
    "            if num_bin[i] == '0': num_comp += '1'\n",
    "            if num_bin[i] == '1': num_comp += '0'\n",
    "            i += 1\n",
    "            \n",
    "        return int(num_comp,2)\n",
    "        "
   ]
  },
  {
   "cell_type": "code",
   "execution_count": 50,
   "metadata": {},
   "outputs": [
    {
     "data": {
      "text/plain": [
       "2"
      ]
     },
     "execution_count": 50,
     "metadata": {},
     "output_type": "execute_result"
    }
   ],
   "source": [
    "a = Solution()\n",
    "a.findComplement(5)"
   ]
  }
 ],
 "metadata": {
  "kernelspec": {
   "display_name": "Python 3",
   "language": "python",
   "name": "python3"
  },
  "language_info": {
   "codemirror_mode": {
    "name": "ipython",
    "version": 3
   },
   "file_extension": ".py",
   "mimetype": "text/x-python",
   "name": "python",
   "nbconvert_exporter": "python",
   "pygments_lexer": "ipython3",
   "version": "3.6.3"
  }
 },
 "nbformat": 4,
 "nbformat_minor": 2
}

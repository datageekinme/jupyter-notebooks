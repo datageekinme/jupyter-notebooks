{
 "cells": [
  {
   "cell_type": "code",
   "execution_count": 28,
   "metadata": {},
   "outputs": [],
   "source": [
    "def pair_sum_learning(arr, b):\n",
    "    seen = set()\n",
    "    output = set()\n",
    "    for i in arr:\n",
    "        target = b-i\n",
    "        print (\"i: \", i)\n",
    "        print (\"target: \", target)\n",
    "    \n",
    "        if target not in seen:\n",
    "            seen.add(i)\n",
    "            print (\"seen: \", seen)\n",
    "        else:\n",
    "            output.add( (min(i,target),max(i,target)) )\n",
    "            print (\"min: \", min(i,target))\n",
    "            print (\"max: \", max(i,target))\n",
    "            print (\"output: \", output)\n",
    "            print ('\\n')\n",
    "    \n",
    "    print('\\n'.join(map(str,list(output))))\n",
    "    return len(output)"
   ]
  },
  {
   "cell_type": "code",
   "execution_count": 29,
   "metadata": {},
   "outputs": [
    {
     "name": "stdout",
     "output_type": "stream",
     "text": [
      "i:  1\n",
      "target:  9\n",
      "seen:  {1}\n",
      "i:  9\n",
      "target:  1\n",
      "min:  1\n",
      "max:  9\n",
      "output:  {(1, 9)}\n",
      "\n",
      "\n",
      "i:  2\n",
      "target:  8\n",
      "seen:  {1, 2}\n",
      "i:  8\n",
      "target:  2\n",
      "min:  2\n",
      "max:  8\n",
      "output:  {(2, 8), (1, 9)}\n",
      "\n",
      "\n",
      "i:  3\n",
      "target:  7\n",
      "seen:  {1, 2, 3}\n",
      "i:  7\n",
      "target:  3\n",
      "min:  3\n",
      "max:  7\n",
      "output:  {(2, 8), (1, 9), (3, 7)}\n",
      "\n",
      "\n",
      "i:  4\n",
      "target:  6\n",
      "seen:  {1, 2, 3, 4}\n",
      "i:  6\n",
      "target:  4\n",
      "min:  4\n",
      "max:  6\n",
      "output:  {(2, 8), (4, 6), (1, 9), (3, 7)}\n",
      "\n",
      "\n",
      "i:  5\n",
      "target:  5\n",
      "seen:  {1, 2, 3, 4, 5}\n",
      "i:  5\n",
      "target:  5\n",
      "min:  5\n",
      "max:  5\n",
      "output:  {(4, 6), (5, 5), (2, 8), (1, 9), (3, 7)}\n",
      "\n",
      "\n",
      "i:  13\n",
      "target:  -3\n",
      "seen:  {1, 2, 3, 4, 5, 13}\n",
      "i:  14\n",
      "target:  -4\n",
      "seen:  {1, 2, 3, 4, 5, 13, 14}\n",
      "i:  11\n",
      "target:  -1\n",
      "seen:  {1, 2, 3, 4, 5, 11, 13, 14}\n",
      "i:  13\n",
      "target:  -3\n",
      "seen:  {1, 2, 3, 4, 5, 11, 13, 14}\n",
      "i:  -1\n",
      "target:  11\n",
      "min:  -1\n",
      "max:  11\n",
      "output:  {(4, 6), (5, 5), (2, 8), (-1, 11), (1, 9), (3, 7)}\n",
      "\n",
      "\n",
      "(4, 6)\n",
      "(5, 5)\n",
      "(2, 8)\n",
      "(-1, 11)\n",
      "(1, 9)\n",
      "(3, 7)\n"
     ]
    },
    {
     "data": {
      "text/plain": [
       "6"
      ]
     },
     "execution_count": 29,
     "metadata": {},
     "output_type": "execute_result"
    }
   ],
   "source": [
    "pair_sum_learning([1,9,2,8,3,7,4,6,5,5,13,14,11,13,-1],10)"
   ]
  },
  {
   "cell_type": "code",
   "execution_count": 30,
   "metadata": {},
   "outputs": [],
   "source": [
    "def pair_sum(arr, b):\n",
    "    seen = set()\n",
    "    output = set()\n",
    "    for i in arr:\n",
    "        target = b-i\n",
    "   \n",
    "        if target not in seen:\n",
    "            seen.add(i)\n",
    "        else:\n",
    "            output.add( (min(i,target),max(i,target)) )\n",
    "    \n",
    "    print('\\n'.join(map(str,list(output))))\n",
    "    return len(output)"
   ]
  },
  {
   "cell_type": "code",
   "execution_count": 31,
   "metadata": {},
   "outputs": [
    {
     "name": "stdout",
     "output_type": "stream",
     "text": [
      "(4, 6)\n",
      "(5, 5)\n",
      "(2, 8)\n",
      "(-1, 11)\n",
      "(1, 9)\n",
      "(3, 7)\n"
     ]
    },
    {
     "data": {
      "text/plain": [
       "6"
      ]
     },
     "execution_count": 31,
     "metadata": {},
     "output_type": "execute_result"
    }
   ],
   "source": [
    "pair_sum([1,9,2,8,3,7,4,6,5,5,13,14,11,13,-1],10)"
   ]
  }
 ],
 "metadata": {
  "kernelspec": {
   "display_name": "Python 3",
   "language": "python",
   "name": "python3"
  },
  "language_info": {
   "codemirror_mode": {
    "name": "ipython",
    "version": 3
   },
   "file_extension": ".py",
   "mimetype": "text/x-python",
   "name": "python",
   "nbconvert_exporter": "python",
   "pygments_lexer": "ipython3",
   "version": "3.6.3"
  }
 },
 "nbformat": 4,
 "nbformat_minor": 2
}

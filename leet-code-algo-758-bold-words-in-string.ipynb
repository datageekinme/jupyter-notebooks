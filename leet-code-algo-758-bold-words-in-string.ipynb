{
 "cells": [
  {
   "cell_type": "markdown",
   "metadata": {},
   "source": [
    "# Question # 758: Bold Words in String"
   ]
  },
  {
   "cell_type": "markdown",
   "metadata": {},
   "source": [
    "Given a set of keywords words and a string S, make all appearances of all keywords in S bold. Any letters between <b> and </b> tags become bold.\n",
    "\n",
    "The returned string should use the least number of tags possible, and of course the tags should form a valid combination.\n",
    "\n",
    "For example, given that words = [\"ab\", \"bc\"] and S = \"aabcd\", we should return \"a<b>abc</b>d\". Note that returning \"a<b>a<b>b</b>c</b>d\" would use more tags, so it is incorrect.\n",
    "\n",
    "Note:\n",
    "\n",
    "* words has length in range [0, 50].\n",
    "* words[i] has length in range [1, 10].\n",
    "* S has length in range [0, 500].\n",
    "* All characters in words[i] and S are lowercase letters.\n"
   ]
  },
  {
   "cell_type": "markdown",
   "metadata": {},
   "source": [
    "### Solution 1:"
   ]
  },
  {
   "cell_type": "code",
   "execution_count": 6,
   "metadata": {},
   "outputs": [],
   "source": [
    "class Solution(object):\n",
    "    def boldWords(self, words, S):\n",
    "        n = len(S)\n",
    "        hits = [0] * (n + 1)\n",
    "        for i in range(n):\n",
    "            for word in words:\n",
    "                if (i + len(word) <= n and word == S[i:i + len(word)]):\n",
    "                    hits[i] += 1\n",
    "                    hits[i + len(word)] -= 1\n",
    "        for i in range(1, n + 1): \n",
    "            hits[i] += hits[i-1]\n",
    "        ans = \"\"\n",
    "        i = 0;\n",
    "        while(i < n):\n",
    "            while(i < n and hits[i] == 0):\n",
    "                ans += S[i]\n",
    "                i += 1\n",
    "            if i >= n:\n",
    "                break\n",
    "            tmp = \"\"\n",
    "            while (i < n and hits[i] != 0):\n",
    "                tmp += S[i]\n",
    "                i += 1\n",
    "            if (len(tmp) != 0):\n",
    "                ans += \"<b>\" + tmp + \"</b>\"\n",
    "        return ans"
   ]
  },
  {
   "cell_type": "code",
   "execution_count": 7,
   "metadata": {},
   "outputs": [
    {
     "data": {
      "text/plain": [
       "'a<b>abc</b>d'"
      ]
     },
     "execution_count": 7,
     "metadata": {},
     "output_type": "execute_result"
    }
   ],
   "source": [
    "words = [\"ab\", \"bc\"]\n",
    "S = \"aabcd\"\n",
    "a = Solution()\n",
    "a.boldWords(words, S)"
   ]
  },
  {
   "cell_type": "markdown",
   "metadata": {},
   "source": [
    "### Solution 2:"
   ]
  },
  {
   "cell_type": "code",
   "execution_count": 8,
   "metadata": {},
   "outputs": [],
   "source": [
    "class Solution(object):\n",
    "    def boldWords(self, words, S):\n",
    "        # l = len(S)\n",
    "        exist = [False]*len(S)\n",
    "        \n",
    "        for w in words:\n",
    "            ind = S.find(w)\n",
    "            wl = len(w)\n",
    "            while ind > -1:\n",
    "                exist[ind:ind+wl] = [True]*wl\n",
    "                ind = S.find(w, ind+1)\n",
    "        \n",
    "        res = ''\n",
    "        i = 0\n",
    "        while i < len(S):\n",
    "            if exist[i]:\n",
    "                res += r'<b>'\n",
    "                while i < len(S) and exist[i]:\n",
    "                    res += S[i]\n",
    "                    i += 1\n",
    "                res += r'</b>'\n",
    "            else:\n",
    "                res += S[i]\n",
    "                i += 1\n",
    "        \n",
    "        return res"
   ]
  },
  {
   "cell_type": "code",
   "execution_count": 9,
   "metadata": {},
   "outputs": [
    {
     "data": {
      "text/plain": [
       "'a<b>abc</b>d'"
      ]
     },
     "execution_count": 9,
     "metadata": {},
     "output_type": "execute_result"
    }
   ],
   "source": [
    "words = [\"ab\", \"bc\"]\n",
    "S = \"aabcd\"\n",
    "a = Solution()\n",
    "a.boldWords(words, S)"
   ]
  },
  {
   "cell_type": "code",
   "execution_count": null,
   "metadata": {},
   "outputs": [],
   "source": []
  }
 ],
 "metadata": {
  "kernelspec": {
   "display_name": "Python 2",
   "language": "python",
   "name": "python2"
  },
  "language_info": {
   "codemirror_mode": {
    "name": "ipython",
    "version": 2
   },
   "file_extension": ".py",
   "mimetype": "text/x-python",
   "name": "python",
   "nbconvert_exporter": "python",
   "pygments_lexer": "ipython2",
   "version": "2.7.14"
  }
 },
 "nbformat": 4,
 "nbformat_minor": 2
}

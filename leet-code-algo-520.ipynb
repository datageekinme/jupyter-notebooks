{
 "cells": [
  {
   "cell_type": "markdown",
   "metadata": {},
   "source": [
    "#### Question # 520:\n",
    "\n",
    "Given a word, you need to judge whether the usage of capitals in it is right or not.\n",
    "\n",
    "We define the usage of capitals in a word to be right when one of the following cases holds:\n",
    ". All letters in this word are capitals, like \"USA\".\n",
    ". All letters in this word are not capitals, like \"leetcode\".\n",
    ". Only the first letter in this word is capital if it has more than one letter, like \"Google\".\n",
    "\n",
    "Otherwise, we define that this word doesn't use capitals in a right way.\n",
    "\n",
    "Example 1:\n",
    "\n",
    "```Input: \"USA\"\n",
    "Output: True```\n",
    "\n",
    "Example 2:\n",
    "\n",
    "```Input: \"FlaG\"\n",
    "Output: False```\n",
    "\n",
    "\n",
    "Note: The input will be a non-empty word consisting of uppercase and lowercase latin letters."
   ]
  },
  {
   "cell_type": "code",
   "execution_count": 72,
   "metadata": {},
   "outputs": [],
   "source": [
    "# Solution 1\n",
    "import re\n",
    "\n",
    "class Solution(object):\n",
    "    def detectCapitalUse(self, word):\n",
    "        valid = False\n",
    "        all_uppercase = bool(re.match(r'[A-Z]+$', word))\n",
    "        all_lowercase = bool(re.match(r'[a-z]+$', word))\n",
    "        init_cap = bool(re.match(r'[a-z]+$', word[1:]))\n",
    "        if all_uppercase or all_lowercase or init_cap:\n",
    "            valid = True\n",
    "        else:\n",
    "            valid = False\n",
    "        return valid"
   ]
  },
  {
   "cell_type": "code",
   "execution_count": 73,
   "metadata": {},
   "outputs": [
    {
     "name": "stdout",
     "output_type": "stream",
     "text": [
      "USA = True\n",
      "leetcode = True\n",
      "Google = True\n",
      "GooGle = False\n",
      "gooGle = False\n",
      "USa = False\n",
      "l33tcode = False\n"
     ]
    }
   ],
   "source": [
    "words = ['USA','leetcode','Google', 'GooGle', 'gooGle', 'USa', 'l33tcode']\n",
    "a = Solution()\n",
    "for word in words:\n",
    "    print(word + \" = \" + str(a.detectCapitalUse(word)))"
   ]
  },
  {
   "cell_type": "code",
   "execution_count": 74,
   "metadata": {},
   "outputs": [],
   "source": [
    "# Solution 2\n",
    "class Solution(object):\n",
    "    def detectCapitalUse1(self, word):\n",
    "        return word == word.lower() or word == word.upper() or word[1:] == word[1:].lower()"
   ]
  },
  {
   "cell_type": "code",
   "execution_count": 75,
   "metadata": {},
   "outputs": [
    {
     "name": "stdout",
     "output_type": "stream",
     "text": [
      "USA = True\n",
      "leetcode = True\n",
      "Google = True\n",
      "GooGle = False\n",
      "gooGle = False\n",
      "USa = False\n",
      "l33tcode = True\n"
     ]
    }
   ],
   "source": [
    "words = ['USA','leetcode','Google', 'GooGle', 'gooGle', 'USa', 'l33tcode']\n",
    "b = Solution()\n",
    "for word in words:\n",
    "    print(word + \" = \" + str(b.detectCapitalUse1(word)))"
   ]
  },
  {
   "cell_type": "code",
   "execution_count": null,
   "metadata": {},
   "outputs": [],
   "source": []
  }
 ],
 "metadata": {
  "kernelspec": {
   "display_name": "Python 2",
   "language": "python",
   "name": "python2"
  },
  "language_info": {
   "codemirror_mode": {
    "name": "ipython",
    "version": 2
   },
   "file_extension": ".py",
   "mimetype": "text/x-python",
   "name": "python",
   "nbconvert_exporter": "python",
   "pygments_lexer": "ipython2",
   "version": "2.7.14"
  }
 },
 "nbformat": 4,
 "nbformat_minor": 2
}

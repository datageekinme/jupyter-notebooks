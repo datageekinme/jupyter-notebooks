{
 "cells": [
  {
   "cell_type": "code",
   "execution_count": 7,
   "metadata": {},
   "outputs": [],
   "source": [
    "class Solution(object):\n",
    "    def selfDividingNumbers(self, left, right):\n",
    "        \n",
    "        if left > right:\n",
    "            return None\n",
    "        \n",
    "        output_list = []\n",
    "        \n",
    "        while left <= right:\n",
    "            \n",
    "            left_digits = list(str(left))\n",
    "            \n",
    "            output_flag = True\n",
    "            \n",
    "            for i in left_digits:\n",
    "                if int(i) == 0:\n",
    "                    output_flag = False \n",
    "                elif left % int(i) == 0:\n",
    "                    continue\n",
    "                else:\n",
    "                    output_flag = False\n",
    "            \n",
    "            if output_flag == True:\n",
    "                output_list.append(left)\n",
    "        \n",
    "            left += 1\n",
    "            \n",
    "        return output_list"
   ]
  },
  {
   "cell_type": "code",
   "execution_count": 8,
   "metadata": {},
   "outputs": [],
   "source": [
    "a = Solution()"
   ]
  },
  {
   "cell_type": "code",
   "execution_count": 10,
   "metadata": {},
   "outputs": [
    {
     "data": {
      "text/plain": [
       "[1,\n",
       " 2,\n",
       " 3,\n",
       " 4,\n",
       " 5,\n",
       " 6,\n",
       " 7,\n",
       " 8,\n",
       " 9,\n",
       " 11,\n",
       " 12,\n",
       " 15,\n",
       " 22,\n",
       " 24,\n",
       " 33,\n",
       " 36,\n",
       " 44,\n",
       " 48,\n",
       " 55,\n",
       " 66,\n",
       " 77,\n",
       " 88,\n",
       " 99,\n",
       " 111,\n",
       " 112,\n",
       " 115,\n",
       " 122,\n",
       " 124,\n",
       " 126,\n",
       " 128,\n",
       " 132,\n",
       " 135,\n",
       " 144,\n",
       " 155,\n",
       " 162,\n",
       " 168,\n",
       " 175,\n",
       " 184,\n",
       " 212,\n",
       " 216,\n",
       " 222,\n",
       " 224,\n",
       " 244,\n",
       " 248,\n",
       " 264,\n",
       " 288,\n",
       " 312,\n",
       " 315,\n",
       " 324,\n",
       " 333,\n",
       " 336,\n",
       " 366,\n",
       " 384,\n",
       " 396,\n",
       " 412,\n",
       " 424,\n",
       " 432,\n",
       " 444,\n",
       " 448,\n",
       " 488,\n",
       " 515,\n",
       " 555,\n",
       " 612,\n",
       " 624,\n",
       " 636,\n",
       " 648,\n",
       " 666,\n",
       " 672,\n",
       " 728,\n",
       " 735,\n",
       " 777,\n",
       " 784,\n",
       " 816,\n",
       " 824,\n",
       " 848,\n",
       " 864,\n",
       " 888,\n",
       " 936,\n",
       " 999]"
      ]
     },
     "execution_count": 10,
     "metadata": {},
     "output_type": "execute_result"
    }
   ],
   "source": [
    "a.selfDividingNumbers(1,1000)"
   ]
  }
 ],
 "metadata": {
  "kernelspec": {
   "display_name": "Python 3",
   "language": "python",
   "name": "python3"
  },
  "language_info": {
   "codemirror_mode": {
    "name": "ipython",
    "version": 3
   },
   "file_extension": ".py",
   "mimetype": "text/x-python",
   "name": "python",
   "nbconvert_exporter": "python",
   "pygments_lexer": "ipython3",
   "version": "3.6.3"
  }
 },
 "nbformat": 4,
 "nbformat_minor": 2
}

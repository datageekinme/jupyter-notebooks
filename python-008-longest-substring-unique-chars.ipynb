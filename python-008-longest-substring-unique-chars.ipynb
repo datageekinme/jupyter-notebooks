{
 "cells": [
  {
   "cell_type": "code",
   "execution_count": 219,
   "metadata": {},
   "outputs": [],
   "source": [
    "s = 'bccdabdef'"
   ]
  },
  {
   "cell_type": "code",
   "execution_count": 220,
   "metadata": {},
   "outputs": [],
   "source": [
    "def longest_unique_string(s):\n",
    "    \n",
    "    length_longest_string = 1\n",
    "    longest_string = s[0]\n",
    "    length = len(s)\n",
    "    \n",
    "    for index, letter in enumerate(s):\n",
    "        start_index = index\n",
    "        loop_index = index + 1\n",
    "        chars_list = list(s[start_index])\n",
    "        while loop_index < length:\n",
    "            if s[loop_index] in chars_list:\n",
    "                current_string = s[start_index:loop_index]\n",
    "                current_length = len(current_string)\n",
    "                if  current_length > length_longest_string:\n",
    "                    longest_string = current_string\n",
    "                    length_longest_string = current_length\n",
    "                    break\n",
    "                else:\n",
    "                    chars_list.append(s[loop_index])\n",
    "                    break\n",
    "            chars_list.append(s[loop_index])\n",
    "            loop_index+=1\n",
    "        \n",
    "        if loop_index == length:\n",
    "            current_string = s[start_index:loop_index]\n",
    "            current_length = len(current_string)\n",
    "            if  current_length > length_longest_string:\n",
    "                longest_string = current_string\n",
    "                length_longest_string = current_length\n",
    "       \n",
    "    return longest_string, length_longest_string\n"
   ]
  },
  {
   "cell_type": "code",
   "execution_count": 221,
   "metadata": {},
   "outputs": [
    {
     "data": {
      "text/plain": [
       "('abdef', 5)"
      ]
     },
     "execution_count": 221,
     "metadata": {},
     "output_type": "execute_result"
    }
   ],
   "source": [
    "longest_unique_string(s)"
   ]
  },
  {
   "cell_type": "code",
   "execution_count": 222,
   "metadata": {},
   "outputs": [
    {
     "data": {
      "text/plain": [
       "('ABDEFGH', 7)"
      ]
     },
     "execution_count": 222,
     "metadata": {},
     "output_type": "execute_result"
    }
   ],
   "source": [
    "longest_unique_string('ABDEFGHBEF')"
   ]
  }
 ],
 "metadata": {
  "kernelspec": {
   "display_name": "Python 3",
   "language": "python",
   "name": "python3"
  },
  "language_info": {
   "codemirror_mode": {
    "name": "ipython",
    "version": 3
   },
   "file_extension": ".py",
   "mimetype": "text/x-python",
   "name": "python",
   "nbconvert_exporter": "python",
   "pygments_lexer": "ipython3",
   "version": "3.6.3"
  }
 },
 "nbformat": 4,
 "nbformat_minor": 2
}

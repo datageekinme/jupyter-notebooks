{
 "cells": [
  {
   "cell_type": "code",
   "execution_count": 47,
   "metadata": {},
   "outputs": [],
   "source": [
    "class Solution:\n",
    "    def calPoints(self, ops):\n",
    "        \n",
    "        record = []\n",
    "        \n",
    "        for op in ops:\n",
    "            if op == '+':\n",
    "                record.append(record[-1]+record[-2])\n",
    "            elif op == 'D':\n",
    "                record.append(record[-1]*2)\n",
    "            elif op == 'C':\n",
    "                record.pop()\n",
    "            else:\n",
    "                record.append(int(op))\n",
    "            print ('op: ' + op)\n",
    "            print (record)        \n",
    "\n",
    "                \n",
    "        return sum(record)"
   ]
  },
  {
   "cell_type": "code",
   "execution_count": 48,
   "metadata": {},
   "outputs": [],
   "source": [
    "a = Solution()"
   ]
  },
  {
   "cell_type": "code",
   "execution_count": 49,
   "metadata": {},
   "outputs": [],
   "source": [
    "ops = [\"5\",\"2\",\"C\",\"D\",\"+\"]"
   ]
  },
  {
   "cell_type": "code",
   "execution_count": 50,
   "metadata": {},
   "outputs": [
    {
     "name": "stdout",
     "output_type": "stream",
     "text": [
      "op: 5\n",
      "[5]\n",
      "op: 2\n",
      "[5, 2]\n",
      "op: C\n",
      "[5]\n",
      "op: D\n",
      "[5, 10]\n",
      "op: +\n",
      "[5, 10, 15]\n"
     ]
    },
    {
     "data": {
      "text/plain": [
       "30"
      ]
     },
     "execution_count": 50,
     "metadata": {},
     "output_type": "execute_result"
    }
   ],
   "source": [
    "a.calPoints(ops)"
   ]
  },
  {
   "cell_type": "code",
   "execution_count": null,
   "metadata": {},
   "outputs": [],
   "source": []
  }
 ],
 "metadata": {
  "kernelspec": {
   "display_name": "Python 3",
   "language": "python",
   "name": "python3"
  },
  "language_info": {
   "codemirror_mode": {
    "name": "ipython",
    "version": 3
   },
   "file_extension": ".py",
   "mimetype": "text/x-python",
   "name": "python",
   "nbconvert_exporter": "python",
   "pygments_lexer": "ipython3",
   "version": "3.6.4"
  }
 },
 "nbformat": 4,
 "nbformat_minor": 2
}

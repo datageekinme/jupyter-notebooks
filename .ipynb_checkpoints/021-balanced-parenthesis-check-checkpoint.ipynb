{
 "cells": [
  {
   "cell_type": "markdown",
   "metadata": {},
   "source": [
    "# Balanced Parentheses Check\n",
    "\n",
    "## Problem Statement\n",
    "\n",
    "Given a string of opening and closing parentheses, check whether it’s balanced. We have 3 types of parentheses: round brackets: (), square brackets: [], and curly brackets: {}. Assume that the string doesn’t contain any other character than these, no spaces words or numbers. As a reminder, balanced parentheses require every opening parenthesis to be closed in the reverse order opened. For example ‘([])’ is balanced but ‘([)]’ is not.\n",
    "\n",
    "You can assume the input string has no spaces"
   ]
  },
  {
   "cell_type": "code",
   "execution_count": 29,
   "metadata": {},
   "outputs": [],
   "source": [
    "# implementing a stack\n",
    "class Stack(object):\n",
    "    \n",
    "    def __init__(self):\n",
    "        self.items = []\n",
    "        self.len = 0\n",
    "        \n",
    "    def isEmpty(self):\n",
    "        return self.items == []\n",
    "    \n",
    "    def size(self):\n",
    "        return self.len\n",
    "    \n",
    "    def push(self, item):\n",
    "        self.items.append(item)\n",
    "        self.len += 1\n",
    "        \n",
    "    def peek(self):\n",
    "        print(self.items[-1])\n",
    "        \n",
    "    def pop(self):\n",
    "        if self.len == 0:\n",
    "            print('Stack is Empty')\n",
    "        else:\n",
    "            self.len -= 1\n",
    "            return self.items.pop()"
   ]
  },
  {
   "cell_type": "code",
   "execution_count": 30,
   "metadata": {},
   "outputs": [],
   "source": [
    "def balance_check(s):\n",
    "    \n",
    "    # since we are told no spaces or characters exists other than the parenthesis\n",
    "    # if odd number of paranthesis, then not balanced\n",
    "    if len(s) % 2 != 0:\n",
    "        return False\n",
    "    \n",
    "    # create a set of opening paranthesis\n",
    "    opening = set('([{')\n",
    "    \n",
    "    # create a set of matches that are valid\n",
    "    matches = set([('(',')'),('{','}'),('[',']')])\n",
    "    \n",
    "    # initializing a stack\n",
    "    stack = Stack()\n",
    "    \n",
    "    for item in s:\n",
    "        # if encountered character is opening parenthesis add it to the stack\n",
    "        if item in opening:\n",
    "            stack.push(item)\n",
    "        # else return false if stack length is 0. If not, check the last open parenthesis \n",
    "        # and the current paranthesis and see if they match i.e. open and close parenthesis\n",
    "        else:\n",
    "            if len(stack.items) == 0:\n",
    "                return False\n",
    "            \n",
    "            last_open = stack.pop()\n",
    "            \n",
    "            if (last_open,item) not in matches:\n",
    "                return False\n",
    "            \n",
    "    # on going through the entire string, if stack length is 0 then it's balanced\n",
    "    return len(stack.items) == 0\n",
    "    "
   ]
  },
  {
   "cell_type": "code",
   "execution_count": 31,
   "metadata": {},
   "outputs": [
    {
     "data": {
      "text/plain": [
       "True"
      ]
     },
     "execution_count": 31,
     "metadata": {},
     "output_type": "execute_result"
    }
   ],
   "source": [
    "balance_check('[]')"
   ]
  },
  {
   "cell_type": "code",
   "execution_count": 32,
   "metadata": {},
   "outputs": [
    {
     "data": {
      "text/plain": [
       "True"
      ]
     },
     "execution_count": 32,
     "metadata": {},
     "output_type": "execute_result"
    }
   ],
   "source": [
    "balance_check('[](){([[[]]])}')"
   ]
  },
  {
   "cell_type": "code",
   "execution_count": 33,
   "metadata": {},
   "outputs": [
    {
     "data": {
      "text/plain": [
       "False"
      ]
     },
     "execution_count": 33,
     "metadata": {},
     "output_type": "execute_result"
    }
   ],
   "source": [
    "balance_check('()(){]}')"
   ]
  },
  {
   "cell_type": "code",
   "execution_count": 34,
   "metadata": {},
   "outputs": [
    {
     "data": {
      "text/plain": [
       "False"
      ]
     },
     "execution_count": 34,
     "metadata": {},
     "output_type": "execute_result"
    }
   ],
   "source": [
    "balance_check('()()[{]}')"
   ]
  },
  {
   "cell_type": "code",
   "execution_count": null,
   "metadata": {},
   "outputs": [],
   "source": []
  }
 ],
 "metadata": {
  "kernelspec": {
   "display_name": "Python 3",
   "language": "python",
   "name": "python3"
  },
  "language_info": {
   "codemirror_mode": {
    "name": "ipython",
    "version": 3
   },
   "file_extension": ".py",
   "mimetype": "text/x-python",
   "name": "python",
   "nbconvert_exporter": "python",
   "pygments_lexer": "ipython3",
   "version": "3.6.4"
  }
 },
 "nbformat": 4,
 "nbformat_minor": 2
}

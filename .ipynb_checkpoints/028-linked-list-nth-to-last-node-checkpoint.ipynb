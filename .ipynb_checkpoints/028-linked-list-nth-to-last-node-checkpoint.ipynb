{
 "cells": [
  {
   "cell_type": "code",
   "execution_count": 1,
   "metadata": {},
   "outputs": [],
   "source": [
    "class Node(object):\n",
    "    \n",
    "    def __init__(self,value):\n",
    "        \n",
    "        self.value = value\n",
    "        self.nextnode = None\n",
    "        "
   ]
  },
  {
   "cell_type": "code",
   "execution_count": 26,
   "metadata": {},
   "outputs": [],
   "source": [
    "def nth_to_last_node(n, head):\n",
    "    \n",
    "    left_pointer = head\n",
    "    right_pointer = head\n",
    "    \n",
    "    for i in range(n):\n",
    "        \n",
    "        print ('i: ', i)\n",
    "        if not right_pointer.nextnode:\n",
    "            raise LookupError('ERROR: n is larger than the linked list')\n",
    "        \n",
    "        right_pointer = right_pointer.nextnode\n",
    "        print ('for loop: ', right_pointer.value)\n",
    "        \n",
    "    while right_pointer.nextnode:\n",
    "        print('before left: ', left_pointer.value)\n",
    "        print('before right: ', right_pointer.value)\n",
    "        left_pointer = left_pointer.nextnode\n",
    "        right_pointer = right_pointer.nextnode\n",
    "        print('after left: ', left_pointer.value)\n",
    "        print('after right: ', right_pointer.value)\n",
    "        \n",
    "    return left_pointer"
   ]
  },
  {
   "cell_type": "code",
   "execution_count": 27,
   "metadata": {},
   "outputs": [],
   "source": [
    "a = Node(1)\n",
    "b = Node(2)\n",
    "c = Node(3)\n",
    "d = Node(4)\n",
    "e = Node(5)\n",
    "\n",
    "a.nextnode = b\n",
    "b.nextnode = c\n",
    "c.nextnode = d\n",
    "d.nextnode = e"
   ]
  },
  {
   "cell_type": "code",
   "execution_count": 29,
   "metadata": {},
   "outputs": [
    {
     "name": "stdout",
     "output_type": "stream",
     "text": [
      "i:  0\n",
      "for loop:  2\n",
      "i:  1\n",
      "for loop:  3\n",
      "before left:  1\n",
      "before right:  3\n",
      "after left:  2\n",
      "after right:  4\n",
      "before left:  2\n",
      "before right:  4\n",
      "after left:  3\n",
      "after right:  5\n"
     ]
    },
    {
     "data": {
      "text/plain": [
       "3"
      ]
     },
     "execution_count": 29,
     "metadata": {},
     "output_type": "execute_result"
    }
   ],
   "source": [
    "target = nth_to_last_node(3,a)\n",
    "target.value"
   ]
  },
  {
   "cell_type": "code",
   "execution_count": 31,
   "metadata": {},
   "outputs": [
    {
     "name": "stdout",
     "output_type": "stream",
     "text": [
      "i:  0\n",
      "for loop:  2\n",
      "before left:  1\n",
      "before right:  2\n",
      "after left:  2\n",
      "after right:  3\n",
      "before left:  2\n",
      "before right:  3\n",
      "after left:  3\n",
      "after right:  4\n",
      "before left:  3\n",
      "before right:  4\n",
      "after left:  4\n",
      "after right:  5\n",
      "before left:  4\n",
      "before right:  5\n",
      "after left:  5\n",
      "after right:  6\n",
      "before left:  5\n",
      "before right:  6\n",
      "after left:  6\n",
      "after right:  7\n",
      "before left:  6\n",
      "before right:  7\n",
      "after left:  7\n",
      "after right:  8\n",
      "before left:  7\n",
      "before right:  8\n",
      "after left:  8\n",
      "after right:  9\n"
     ]
    },
    {
     "data": {
      "text/plain": [
       "8"
      ]
     },
     "execution_count": 31,
     "metadata": {},
     "output_type": "execute_result"
    }
   ],
   "source": [
    "a = Node(1)\n",
    "b = Node(2)\n",
    "c = Node(3)\n",
    "d = Node(4)\n",
    "e = Node(5)\n",
    "f = Node(6)\n",
    "g = Node(7)\n",
    "h = Node(8)\n",
    "i = Node(9)\n",
    "\n",
    "a.nextnode = b\n",
    "b.nextnode = c\n",
    "c.nextnode = d\n",
    "d.nextnode = e\n",
    "e.nextnode = f\n",
    "f.nextnode = g\n",
    "g.nextnode = h\n",
    "h.nextnode = i\n",
    "\n",
    "target = nth_to_last_node(2,a)\n",
    "target.value"
   ]
  },
  {
   "cell_type": "code",
   "execution_count": null,
   "metadata": {},
   "outputs": [],
   "source": []
  }
 ],
 "metadata": {
  "kernelspec": {
   "display_name": "Python 3",
   "language": "python",
   "name": "python3"
  },
  "language_info": {
   "codemirror_mode": {
    "name": "ipython",
    "version": 3
   },
   "file_extension": ".py",
   "mimetype": "text/x-python",
   "name": "python",
   "nbconvert_exporter": "python",
   "pygments_lexer": "ipython3",
   "version": "3.6.4"
  }
 },
 "nbformat": 4,
 "nbformat_minor": 2
}
